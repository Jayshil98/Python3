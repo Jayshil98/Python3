{
 "cells": [
  {
   "cell_type": "markdown",
   "metadata": {},
   "source": [
    "Write code that finds the minimum value of a list of numbers 5,3,8,-1,-2.2,0\n",
    "- Don't use the built in min() function\n",
    "- Instantiate a 'numbers' list variable containing the proper values (above)\n",
    "- Iterate over that list and find the min value\n",
    "- Print the minimum value in the format:\"...is the min number\""
   ]
  },
  {
   "cell_type": "code",
   "execution_count": 1,
   "metadata": {},
   "outputs": [],
   "source": [
    "#define the list of numbers\n",
    "numbers = [5,3,8,-1,-2.2,0]"
   ]
  },
  {
   "cell_type": "code",
   "execution_count": 2,
   "metadata": {},
   "outputs": [],
   "source": [
    "#define the min number variable\n",
    "min_number = numbers[0]"
   ]
  },
  {
   "cell_type": "code",
   "execution_count": 3,
   "metadata": {},
   "outputs": [
    {
     "name": "stdout",
     "output_type": "stream",
     "text": [
      "-2.2 is the min number\n"
     ]
    }
   ],
   "source": [
    "#find the minimum value\n",
    "for number in numbers:\n",
    "    if number < min_number:\n",
    "        #reset the min number\n",
    "        min_number = number\n",
    "\n",
    "print(min_number, \"is the min number\")"
   ]
  }
 ],
 "metadata": {
  "kernelspec": {
   "display_name": "Python 3",
   "language": "python",
   "name": "python3"
  },
  "language_info": {
   "codemirror_mode": {
    "name": "ipython",
    "version": 3
   },
   "file_extension": ".py",
   "mimetype": "text/x-python",
   "name": "python",
   "nbconvert_exporter": "python",
   "pygments_lexer": "ipython3",
   "version": "3.8.5"
  }
 },
 "nbformat": 4,
 "nbformat_minor": 4
}
