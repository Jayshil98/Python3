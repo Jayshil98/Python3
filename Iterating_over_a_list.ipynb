{
 "cells": [
  {
   "cell_type": "code",
   "execution_count": 1,
   "metadata": {},
   "outputs": [],
   "source": [
    "#define list of numbers\n",
    "numbers = [1,2,3,4,5,6,7,8,9,10]"
   ]
  },
  {
   "cell_type": "code",
   "execution_count": 2,
   "metadata": {},
   "outputs": [],
   "source": [
    "#to store even numbers\n",
    "even_numbers = []"
   ]
  },
  {
   "cell_type": "code",
   "execution_count": 3,
   "metadata": {},
   "outputs": [],
   "source": [
    "#to store count of even numbers\n",
    "even_count = 0"
   ]
  },
  {
   "cell_type": "code",
   "execution_count": 4,
   "metadata": {},
   "outputs": [],
   "source": [
    "#to store count of odd numbers\n",
    "odd_count = 0"
   ]
  },
  {
   "cell_type": "code",
   "execution_count": 5,
   "metadata": {},
   "outputs": [],
   "source": [
    "#to store odd numbers\n",
    "odd_numbers = []"
   ]
  },
  {
   "cell_type": "code",
   "execution_count": 6,
   "metadata": {},
   "outputs": [
    {
     "name": "stdout",
     "output_type": "stream",
     "text": [
      "[2, 4, 6, 8, 10]\n",
      "[1, 3, 5, 7, 9]\n",
      "There are  5 numbers in the even list!\n",
      "There are  5 numbers in the odd list!\n"
     ]
    }
   ],
   "source": [
    "#iterate over list\n",
    "for number in numbers:\n",
    "    if (number % 2 == 0):\n",
    "        even_numbers.append(number)\n",
    "        #increment count\n",
    "        even_count += 1\n",
    "        \n",
    "    else:\n",
    "        odd_numbers.append(number)\n",
    "        #increment count\n",
    "        odd_count += 1   \n",
    "        \n",
    "print(even_numbers)\n",
    "print(odd_numbers)\n",
    "print(\"There are \",even_count,\"numbers in the even list!\")\n",
    "print(\"There are \",odd_count,\"numbers in the odd list!\")"
   ]
  },
  {
   "cell_type": "code",
   "execution_count": null,
   "metadata": {},
   "outputs": [],
   "source": []
  }
 ],
 "metadata": {
  "kernelspec": {
   "display_name": "Python 3",
   "language": "python",
   "name": "python3"
  },
  "language_info": {
   "codemirror_mode": {
    "name": "ipython",
    "version": 3
   },
   "file_extension": ".py",
   "mimetype": "text/x-python",
   "name": "python",
   "nbconvert_exporter": "python",
   "pygments_lexer": "ipython3",
   "version": "3.8.5"
  }
 },
 "nbformat": 4,
 "nbformat_minor": 4
}
